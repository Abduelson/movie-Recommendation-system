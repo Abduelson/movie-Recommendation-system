{
 "cells": [
  {
   "cell_type": "markdown",
   "id": "089a5a03-4efc-4975-8bce-dbd8136e004c",
   "metadata": {},
   "source": [
    "##                                                          Système de Recommandation - MovieLens"
   ]
  },
  {
   "cell_type": "markdown",
   "id": "6137dddd-4da0-4ccb-ba38-d785bb231744",
   "metadata": {},
   "source": [
    "\n",
    "\n",
    "Dans ce projet, nous développons un système de recommandation de films à partir du jeu de données MovieLens 100K, fourni par le laboratoire GroupLens de l’Université du Minnesota. Ce jeu contient environ 100 000 évaluations explicites (notes de 1 à 5) attribuées par 943 utilisateurs à 1 682 films, ce qui en fait une base de référence reconnue pour les expérimentations en apprentissage automatique appliquées à la recommandation.\n",
    "\n",
    "L’objectif métier est d’améliorer l’expérience utilisateur en proposant à chaque spectateur une sélection de films personnalisés, favorisant ainsi une meilleure rétention et satisfaction. Plus précisément, notre modèle doit générer les 5 meilleures recommandations de films pour un utilisateur donné, sur la base de ses évaluations passées.\n",
    "\n",
    "La préparation des données a impliqué le nettoyage des valeurs manquantes, la structuration des interactions utilisateur–film et la séparation des ensembles d’entraînement et de test. Nous avons utilisé principalement pandas pour la manipulation des données et scikit-learn pour la gestion des métriques et de la validation.\n",
    "\n",
    "Pour la modélisation, nous avons privilégié le filtrage collaboratif en implémentant la factorisation matricielle via l’algorithme SVD (Singular Value Decomposition), grâce à la bibliothèque Surprise. Le réglage des hyperparamètres a été effectué par GridSearchCV, en testant différentes valeurs de nombre de facteurs latents, taux d’apprentissage et régularisation.\n",
    "\n",
    "Les performances du modèle ont été évaluées via RMSE (Root Mean Squared Error) et MAE (Mean Absolute Error), avec une validation croisée en k-plis. Notre modèle final atteint un RMSE de [valeur] et un MAE de [valeur], indiquant une bonne capacité de prédiction des préférences.\n",
    "\n",
    "Enfin, nous générons pour chaque utilisateur une liste de recommandations personnalisées. Des limites persistent, notamment le problème du démarrage à froid pour les nouveaux utilisateurs/films. En perspective, nous suggérons d’intégrer un filtrage basé sur le contenu afin de pallier ces limitations et d’améliorer encore la pertinence des suggestions.\n",
    "\n",
    "---\n",
    "\n"
   ]
  },
  {
   "cell_type": "markdown",
   "id": "89528f67-671f-499f-b7af-22e70a27c272",
   "metadata": {},
   "source": [
    "## Plan de travail\n",
    "\n",
    "1. Chargement et exploration du dataset MovieLens\n",
    "2. Préparation des données\n",
    "3. Modélisation – Filtrage collaboratif (SVD)\n",
    "4. Évaluation des performances\n",
    "5. Recommandations personnalisées\n",
    "6. Conclusion\n",
    "\n",
    "---\n",
    "\n"
   ]
  },
  {
   "cell_type": "markdown",
   "id": "de2b65c0-53ed-4bb0-91bf-12d5f25cf36f",
   "metadata": {},
   "source": [
    "## 1.0 Chargement des bibliothèques"
   ]
  },
  {
   "cell_type": "code",
   "execution_count": 5,
   "id": "3817ef83-c993-4bee-8742-e40a71a9ae34",
   "metadata": {},
   "outputs": [],
   "source": [
    "import pandas as pd\n",
    "import numpy as np\n",
    "import matplotlib.pyplot as plt\n",
    "import seaborn as sbn\n",
    "\n",
    "\n",
    "np.random.seed(1)"
   ]
  },
  {
   "cell_type": "markdown",
   "id": "8ef15083-819e-4a19-82e5-b44a6bafecab",
   "metadata": {},
   "source": [
    "## 1.1 Chargement des fichiers de données"
   ]
  },
  {
   "cell_type": "markdown",
   "id": "e029a70e-3d6f-4266-980c-3d451bd77d6c",
   "metadata": {},
   "source": [
    "**_Nous allons charger les fichiers_**:\n",
    "1. **_movies.csv_** ==> les movieId, titres et genres (très utile pour les reco. de façon lisible)\n",
    "2. **_ratings.csv_** ==> les userId, movieId, ratings et timestamp (cœur du système de reco)\n",
    "\n",
    "Nous utilisons ces fichies selon notre objectifs qui est de \" **_générer les 5 meilleures recommandations de films pour un utilisateur donné, sur la base de ses évaluations passées_**  \"\n",
    "\n",
    "**Info**: les fichiers ce trouvent dans le dosier \" **_ml-latest-small_** \""
   ]
  },
  {
   "cell_type": "code",
   "execution_count": 39,
   "id": "5e89e9e4-c5ad-478b-8544-100c3a569a1e",
   "metadata": {},
   "outputs": [
    {
     "data": {
      "text/html": [
       "<div>\n",
       "<style scoped>\n",
       "    .dataframe tbody tr th:only-of-type {\n",
       "        vertical-align: middle;\n",
       "    }\n",
       "\n",
       "    .dataframe tbody tr th {\n",
       "        vertical-align: top;\n",
       "    }\n",
       "\n",
       "    .dataframe thead th {\n",
       "        text-align: right;\n",
       "    }\n",
       "</style>\n",
       "<table border=\"1\" class=\"dataframe\">\n",
       "  <thead>\n",
       "    <tr style=\"text-align: right;\">\n",
       "      <th></th>\n",
       "      <th>movieId</th>\n",
       "      <th>title</th>\n",
       "      <th>genres</th>\n",
       "      <th>rating</th>\n",
       "      <th>timestamp</th>\n",
       "    </tr>\n",
       "  </thead>\n",
       "  <tbody>\n",
       "    <tr>\n",
       "      <th>0</th>\n",
       "      <td>1</td>\n",
       "      <td>Toy Story (1995)</td>\n",
       "      <td>Adventure|Animation|Children|Comedy|Fantasy</td>\n",
       "      <td>4.0</td>\n",
       "      <td>964982703</td>\n",
       "    </tr>\n",
       "    <tr>\n",
       "      <th>1</th>\n",
       "      <td>1</td>\n",
       "      <td>Toy Story (1995)</td>\n",
       "      <td>Adventure|Animation|Children|Comedy|Fantasy</td>\n",
       "      <td>4.0</td>\n",
       "      <td>847434962</td>\n",
       "    </tr>\n",
       "    <tr>\n",
       "      <th>2</th>\n",
       "      <td>1</td>\n",
       "      <td>Toy Story (1995)</td>\n",
       "      <td>Adventure|Animation|Children|Comedy|Fantasy</td>\n",
       "      <td>4.5</td>\n",
       "      <td>1106635946</td>\n",
       "    </tr>\n",
       "    <tr>\n",
       "      <th>3</th>\n",
       "      <td>1</td>\n",
       "      <td>Toy Story (1995)</td>\n",
       "      <td>Adventure|Animation|Children|Comedy|Fantasy</td>\n",
       "      <td>2.5</td>\n",
       "      <td>1510577970</td>\n",
       "    </tr>\n",
       "    <tr>\n",
       "      <th>4</th>\n",
       "      <td>1</td>\n",
       "      <td>Toy Story (1995)</td>\n",
       "      <td>Adventure|Animation|Children|Comedy|Fantasy</td>\n",
       "      <td>4.5</td>\n",
       "      <td>1305696483</td>\n",
       "    </tr>\n",
       "  </tbody>\n",
       "</table>\n",
       "</div>"
      ],
      "text/plain": [
       "   movieId             title                                       genres  \\\n",
       "0        1  Toy Story (1995)  Adventure|Animation|Children|Comedy|Fantasy   \n",
       "1        1  Toy Story (1995)  Adventure|Animation|Children|Comedy|Fantasy   \n",
       "2        1  Toy Story (1995)  Adventure|Animation|Children|Comedy|Fantasy   \n",
       "3        1  Toy Story (1995)  Adventure|Animation|Children|Comedy|Fantasy   \n",
       "4        1  Toy Story (1995)  Adventure|Animation|Children|Comedy|Fantasy   \n",
       "\n",
       "   rating   timestamp  \n",
       "0     4.0   964982703  \n",
       "1     4.0   847434962  \n",
       "2     4.5  1106635946  \n",
       "3     2.5  1510577970  \n",
       "4     4.5  1305696483  "
      ]
     },
     "execution_count": 39,
     "metadata": {},
     "output_type": "execute_result"
    }
   ],
   "source": [
    "#chargerons et fusionnons les fichiers\n",
    "movies = pd.read_csv(\"ml-latest-small/movies.csv\", index_col=0)\n",
    "ratings = pd.read_csv(\"ml-latest-small/ratings.csv\", index_col=0)\n",
    "\n",
    "#regrouppons les deux\n",
    "df = pd.merge(movies,ratings, on=\"movieId\")\n",
    "\n",
    "#les cinqs premiers lignes\n",
    "df.head()"
   ]
  },
  {
   "cell_type": "markdown",
   "id": "ec1d4b7c-adb5-48f9-8b44-fbe277150e2c",
   "metadata": {},
   "source": [
    "## 1.2 Explorons un peu le dataset"
   ]
  },
  {
   "cell_type": "code",
   "execution_count": 44,
   "id": "ff8baf25-32cf-4132-a1f0-3b9ea8592f40",
   "metadata": {},
   "outputs": [
    {
     "name": "stdout",
     "output_type": "stream",
     "text": [
      "<class 'pandas.core.frame.DataFrame'>\n",
      "RangeIndex: 100836 entries, 0 to 100835\n",
      "Data columns (total 5 columns):\n",
      " #   Column     Non-Null Count   Dtype  \n",
      "---  ------     --------------   -----  \n",
      " 0   movieId    100836 non-null  int64  \n",
      " 1   title      100836 non-null  object \n",
      " 2   genres     100836 non-null  object \n",
      " 3   rating     100836 non-null  float64\n",
      " 4   timestamp  100836 non-null  int64  \n",
      "dtypes: float64(1), int64(2), object(2)\n",
      "memory usage: 3.8+ MB\n"
     ]
    }
   ],
   "source": [
    "#verifions les types\n",
    "df.info()"
   ]
  },
  {
   "cell_type": "code",
   "execution_count": 46,
   "id": "18e959d2-f41b-422b-905f-5ddbf72594ab",
   "metadata": {},
   "outputs": [
    {
     "data": {
      "text/plain": [
       "movieId      0\n",
       "title        0\n",
       "genres       0\n",
       "rating       0\n",
       "timestamp    0\n",
       "dtype: int64"
      ]
     },
     "execution_count": 46,
     "metadata": {},
     "output_type": "execute_result"
    }
   ],
   "source": [
    "#verifions les valeus manquante\n",
    "df.isnull().sum()"
   ]
  },
  {
   "cell_type": "code",
   "execution_count": 48,
   "id": "f92aeef7-7a12-4534-8cdb-30228f0db33a",
   "metadata": {},
   "outputs": [
    {
     "data": {
      "text/html": [
       "<div>\n",
       "<style scoped>\n",
       "    .dataframe tbody tr th:only-of-type {\n",
       "        vertical-align: middle;\n",
       "    }\n",
       "\n",
       "    .dataframe tbody tr th {\n",
       "        vertical-align: top;\n",
       "    }\n",
       "\n",
       "    .dataframe thead th {\n",
       "        text-align: right;\n",
       "    }\n",
       "</style>\n",
       "<table border=\"1\" class=\"dataframe\">\n",
       "  <thead>\n",
       "    <tr style=\"text-align: right;\">\n",
       "      <th></th>\n",
       "      <th>movieId</th>\n",
       "      <th>rating</th>\n",
       "      <th>timestamp</th>\n",
       "    </tr>\n",
       "  </thead>\n",
       "  <tbody>\n",
       "    <tr>\n",
       "      <th>count</th>\n",
       "      <td>100836.000000</td>\n",
       "      <td>100836.000000</td>\n",
       "      <td>1.008360e+05</td>\n",
       "    </tr>\n",
       "    <tr>\n",
       "      <th>mean</th>\n",
       "      <td>19435.295718</td>\n",
       "      <td>3.501557</td>\n",
       "      <td>1.205946e+09</td>\n",
       "    </tr>\n",
       "    <tr>\n",
       "      <th>std</th>\n",
       "      <td>35530.987199</td>\n",
       "      <td>1.042529</td>\n",
       "      <td>2.162610e+08</td>\n",
       "    </tr>\n",
       "    <tr>\n",
       "      <th>min</th>\n",
       "      <td>1.000000</td>\n",
       "      <td>0.500000</td>\n",
       "      <td>8.281246e+08</td>\n",
       "    </tr>\n",
       "    <tr>\n",
       "      <th>25%</th>\n",
       "      <td>1199.000000</td>\n",
       "      <td>3.000000</td>\n",
       "      <td>1.019124e+09</td>\n",
       "    </tr>\n",
       "    <tr>\n",
       "      <th>50%</th>\n",
       "      <td>2991.000000</td>\n",
       "      <td>3.500000</td>\n",
       "      <td>1.186087e+09</td>\n",
       "    </tr>\n",
       "    <tr>\n",
       "      <th>75%</th>\n",
       "      <td>8122.000000</td>\n",
       "      <td>4.000000</td>\n",
       "      <td>1.435994e+09</td>\n",
       "    </tr>\n",
       "    <tr>\n",
       "      <th>max</th>\n",
       "      <td>193609.000000</td>\n",
       "      <td>5.000000</td>\n",
       "      <td>1.537799e+09</td>\n",
       "    </tr>\n",
       "  </tbody>\n",
       "</table>\n",
       "</div>"
      ],
      "text/plain": [
       "             movieId         rating     timestamp\n",
       "count  100836.000000  100836.000000  1.008360e+05\n",
       "mean    19435.295718       3.501557  1.205946e+09\n",
       "std     35530.987199       1.042529  2.162610e+08\n",
       "min         1.000000       0.500000  8.281246e+08\n",
       "25%      1199.000000       3.000000  1.019124e+09\n",
       "50%      2991.000000       3.500000  1.186087e+09\n",
       "75%      8122.000000       4.000000  1.435994e+09\n",
       "max    193609.000000       5.000000  1.537799e+09"
      ]
     },
     "execution_count": 48,
     "metadata": {},
     "output_type": "execute_result"
    }
   ],
   "source": [
    "# Affichage des statistiques descriptives du DataFrame\n",
    "df.describe()"
   ]
  },
  {
   "cell_type": "code",
   "execution_count": 94,
   "id": "de1d5374-fbc2-4ebe-b8da-7abe148fdf72",
   "metadata": {},
   "outputs": [
    {
     "data": {
      "text/plain": [
       "movieId       9724\n",
       "title         9719\n",
       "genres         951\n",
       "rating          10\n",
       "timestamp    85043\n",
       "dtype: int64"
      ]
     },
     "execution_count": 94,
     "metadata": {},
     "output_type": "execute_result"
    }
   ],
   "source": [
    "# Affichage du nombre de valeurs uniques pour chaque variable\n",
    "df.nunique()"
   ]
  },
  {
   "cell_type": "markdown",
   "id": "3dd31db7-8837-49bd-b9ff-a7a7ffcf8848",
   "metadata": {},
   "source": [
    "### Aller un peu plus loin\n",
    "\n",
    "* On va analyser les genres des films les plus bien notée"
   ]
  },
  {
   "cell_type": "code",
   "execution_count": 65,
   "id": "b528152b-34f8-42fa-9269-fea3989b48db",
   "metadata": {},
   "outputs": [
    {
     "data": {
      "text/plain": [
       "<Figure size 1000x600 with 0 Axes>"
      ]
     },
     "metadata": {},
     "output_type": "display_data"
    },
    {
     "data": {
      "image/png": "[encoded data removed]",
      "text/plain": [
       "<Figure size 1000x600 with 1 Axes>"
      ]
     },
     "metadata": {},
     "output_type": "display_data"
    }
   ],
   "source": [
    "#Séparer les genres (chaque genre sur une ligne)\n",
    "data_exploded = df.assign(genre=df[\"genres\"].str.split(\"|\")).explode(\"genre\")\n",
    "\n",
    "# Calcul des statistiques par genre\n",
    "genre_stats = data_exploded.groupby(\"genre\").agg(\n",
    "    avg_rating=(\"rating\", \"mean\"),\n",
    "    count=(\"rating\", \"count\")\n",
    ").sort_values(by=\"avg_rating\", ascending=False)\n",
    "\n",
    "# Filtrer les genres ayant au moins 500 évaluations (évite les biais sur petits échantillons)\n",
    "genre_stats_filtered = genre_stats[genre_stats[\"count\"] >= 500]\n",
    "\n",
    "# Visualisation\n",
    "plt.figure(figsize=(10,6))\n",
    "genre_stats_filtered.sort_values(\"avg_rating\").plot(\n",
    "    y=\"avg_rating\", kind=\"barh\", legend=False, color=\"skyblue\", figsize=(10,6)\n",
    ")\n",
    "plt.title(\"Note moyenne par genre (>=500 évaluations)\", fontname=\"Arial\")\n",
    "plt.xlabel(\"Note moyenne\")\n",
    "plt.ylabel(\"Genre\")\n",
    "plt.show()"
   ]
  },
  {
   "cell_type": "markdown",
   "id": "f0854373-0109-4f24-98d7-1f3ec80b41a0",
   "metadata": {},
   "source": [
    "### _Conclusion_:\n",
    "**_Après l'analyse sur les genres, on trouve que ces trois (Film-Noir, War, Documentary) types ont la chances d'etre présent dans les cinqs meilleures recommandation des film pour les utilisateurs. En basent sur ce jeux de donnée_**"
   ]
  },
  {
   "cell_type": "markdown",
   "id": "d49ba416-9069-4f19-9210-a5850a4d95f3",
   "metadata": {},
   "source": [
    "## 2.0 Preparation des donnéé"
   ]
  },
  {
   "cell_type": "markdown",
   "id": "bbb60f25-250f-4f44-b059-982212999c30",
   "metadata": {},
   "source": [
    "* 2.1 **_Sélectionner les colonnes utiles_**"
   ]
  },
  {
   "cell_type": "code",
   "execution_count": 99,
   "id": "94103c77-6661-455f-9398-d3c35c3dc24f",
   "metadata": {},
   "outputs": [
    {
     "data": {
      "text/html": [
       "<div>\n",
       "<style scoped>\n",
       "    .dataframe tbody tr th:only-of-type {\n",
       "        vertical-align: middle;\n",
       "    }\n",
       "\n",
       "    .dataframe tbody tr th {\n",
       "        vertical-align: top;\n",
       "    }\n",
       "\n",
       "    .dataframe thead th {\n",
       "        text-align: right;\n",
       "    }\n",
       "</style>\n",
       "<table border=\"1\" class=\"dataframe\">\n",
       "  <thead>\n",
       "    <tr style=\"text-align: right;\">\n",
       "      <th></th>\n",
       "      <th>title</th>\n",
       "      <th>genres</th>\n",
       "      <th>rating</th>\n",
       "    </tr>\n",
       "  </thead>\n",
       "  <tbody>\n",
       "    <tr>\n",
       "      <th>0</th>\n",
       "      <td>Toy Story (1995)</td>\n",
       "      <td>Adventure|Animation|Children|Comedy|Fantasy</td>\n",
       "      <td>4.0</td>\n",
       "    </tr>\n",
       "    <tr>\n",
       "      <th>1</th>\n",
       "      <td>Toy Story (1995)</td>\n",
       "      <td>Adventure|Animation|Children|Comedy|Fantasy</td>\n",
       "      <td>4.0</td>\n",
       "    </tr>\n",
       "    <tr>\n",
       "      <th>2</th>\n",
       "      <td>Toy Story (1995)</td>\n",
       "      <td>Adventure|Animation|Children|Comedy|Fantasy</td>\n",
       "      <td>4.5</td>\n",
       "    </tr>\n",
       "    <tr>\n",
       "      <th>3</th>\n",
       "      <td>Toy Story (1995)</td>\n",
       "      <td>Adventure|Animation|Children|Comedy|Fantasy</td>\n",
       "      <td>2.5</td>\n",
       "    </tr>\n",
       "    <tr>\n",
       "      <th>4</th>\n",
       "      <td>Toy Story (1995)</td>\n",
       "      <td>Adventure|Animation|Children|Comedy|Fantasy</td>\n",
       "      <td>4.5</td>\n",
       "    </tr>\n",
       "  </tbody>\n",
       "</table>\n",
       "</div>"
      ],
      "text/plain": [
       "              title                                       genres  rating\n",
       "0  Toy Story (1995)  Adventure|Animation|Children|Comedy|Fantasy     4.0\n",
       "1  Toy Story (1995)  Adventure|Animation|Children|Comedy|Fantasy     4.0\n",
       "2  Toy Story (1995)  Adventure|Animation|Children|Comedy|Fantasy     4.5\n",
       "3  Toy Story (1995)  Adventure|Animation|Children|Comedy|Fantasy     2.5\n",
       "4  Toy Story (1995)  Adventure|Animation|Children|Comedy|Fantasy     4.5"
      ]
     },
     "execution_count": 99,
     "metadata": {},
     "output_type": "execute_result"
    }
   ],
   "source": [
    "#Supprimons Timestamp\n",
    "df_prep = df[[\"title\", \"genres\", \"rating\"]]\n",
    "\n",
    "#les cinqs premiers observations\n",
    "df_prep.head()"
   ]
  },
  {
   "cell_type": "markdown",
   "id": "4c4771e2-339d-4d0a-b4d5-b9798c016514",
   "metadata": {},
   "source": [
    "* 2.2 **_Pour prepearer les données on va utiliser \"Surprise\" qui est une bibliothèque Python spécialement conçue pour le filtrage collaboratif_**\n",
    "   "
   ]
  },
  {
   "cell_type": "markdown",
   "id": "e7527486-d5a7-4293-a46d-6bd0bc0f8459",
   "metadata": {},
   "source": [
    "1. Import \" **_Surprise_**\"\n",
    "2. Creer un objet de \"Surprise\" avec **_Dataset, Reader_** et je vais définir l’échelle des notes (de 0.5 à 5)."
   ]
  },
  {
   "cell_type": "code",
   "execution_count": 116,
   "id": "7b5e347c-da93-4bc0-be66-11457f3a8e4b",
   "metadata": {},
   "outputs": [],
   "source": [
    "from surprise import Dataset, Reader\n",
    "\n",
    "#creation de l'objet\n",
    "reader = Reader(rating_scale=(0.5,5))\n",
    "dataset = Dataset.load_from_df(df_prep, reader)"
   ]
  },
  {
   "cell_type": "markdown",
   "id": "91e6bf49-a5e9-41b6-83bf-93c08dab5ca0",
   "metadata": {},
   "source": [
    "* 2.3 **_Créer un jeu d’entraînement et test_**"
   ]
  },
  {
   "cell_type": "code",
   "execution_count": 123,
   "id": "c8966f1e-0b5a-4741-922f-93ed8cbd06cb",
   "metadata": {},
   "outputs": [],
   "source": [
    "from surprise.model_selection import train_test_split\n",
    "\n",
    "#divise le je de donnée \"dataset\"\n",
    "trainset, testset = train_test_split(dataset, test_size=0.2)"
   ]
  },
  {
   "cell_type": "markdown",
   "id": "c33a992b-e9e5-4d34-97ce-8397f5c18f3f",
   "metadata": {},
   "source": [
    "## 3.0 Modélisation – Filtrage collaboratif (SVD)"
   ]
  },
  {
   "cell_type": "markdown",
   "id": "021c60ae-f161-4909-afd7-6a20faadc2bc",
   "metadata": {},
   "source": [
    "* 3.1 **_Pour cette projet et pour atteindre notre objectif, je vais utiliser \"SVD\" (Décomposition en Valeurs Singulières) est un algorithme de factorisation\n",
    "de matrices qui est au cœur du filtrage collaboratif moderne_**\n"
   ]
  },
  {
   "cell_type": "markdown",
   "id": "713a7a8f-9f23-4ba0-a9d0-39579f55c09f",
   "metadata": {},
   "source": [
    "1. Importer **_\"SVD\"_**\n",
    "2. Créer et fit l'objet de \"SVD\""
   ]
  },
  {
   "cell_type": "code",
   "execution_count": 140,
   "id": "6e499424-55ff-4934-a12d-1bb6bbed7ff3",
   "metadata": {},
   "outputs": [
    {
     "data": {
      "text/plain": [
       "<surprise.prediction_algorithms.matrix_factorization.SVD at 0x23e4d3ad100>"
      ]
     },
     "execution_count": 140,
     "metadata": {},
     "output_type": "execute_result"
    }
   ],
   "source": [
    "from surprise import SVD\n",
    "\n",
    "#creation de l'objet\n",
    "model = SVD()\n",
    "\n",
    "#fit le model\n",
    "model.fit(trainset)"
   ]
  },
  {
   "cell_type": "markdown",
   "id": "172b9c86-8c9c-4b64-a88a-b5276d211fdd",
   "metadata": {},
   "source": [
    "## 4.0 Évaluation des performances"
   ]
  },
  {
   "cell_type": "markdown",
   "id": "d6c93f89-fdbd-4bcc-a4fe-5aa7d11a5193",
   "metadata": {},
   "source": [
    "* 4.1 **_Nous allons utiliser \"RMSE\" (Root Mean Square Error), Qui va nous permettre de mesurer la différence moyenne entre les valeurs prédites par un modèle et les valeurs réelles observées._**"
   ]
  },
  {
   "cell_type": "markdown",
   "id": "fcb3bdea-632d-47fa-b677-6d0080aca30f",
   "metadata": {},
   "source": [
    "1. Importer **_Accuracy_** qui vient Surprise\n",
    "2. Faire la prediction sur **_Testset_**"
   ]
  },
  {
   "cell_type": "code",
   "execution_count": 154,
   "id": "d1e60c57-4278-4fcd-8d7d-c208974e0cef",
   "metadata": {},
   "outputs": [
    {
     "name": "stdout",
     "output_type": "stream",
     "text": [
      "RMSE: 0.9526\n",
      "RMSE : 0.9526104572127774\n"
     ]
    }
   ],
   "source": [
    "from surprise import accuracy\n",
    "\n",
    "#la prediction\n",
    "prediction = model.test(testset)\n",
    "\n",
    "#Afficher l'accuracy\n",
    "print(\"RMSE :\" ,accuracy.rmse(prediction))"
   ]
  },
  {
   "cell_type": "markdown",
   "id": "4ed878b6-51f0-40be-a418-8f49516e2ad2",
   "metadata": {},
   "source": [
    "## 5.0 Recommandations personnalisées"
   ]
  },
  {
   "cell_type": "markdown",
   "id": "b3d3c628-166f-4a78-97de-a10341147338",
   "metadata": {},
   "source": [
    "* 5.1 **_Creation d'une fonction pour faire la recommandation de 5 meilleures films_**"
   ]
  },
  {
   "cell_type": "code",
   "execution_count": 188,
   "id": "ef32e1b2-0381-4c47-bfdb-1e875a8a966f",
   "metadata": {},
   "outputs": [
    {
     "name": "stdout",
     "output_type": "stream",
     "text": [
      "                      title                      genres  predicted_rating\n",
      "0            Jumanji (1995)  Adventure|Children|Fantasy          3.498959\n",
      "1   Grumpier Old Men (1995)              Comedy|Romance          3.498959\n",
      "2  Waiting to Exhale (1995)        Comedy|Drama|Romance          3.498959\n",
      "3               Heat (1995)       Action|Crime|Thriller          3.498959\n",
      "4            Sabrina (1995)              Comedy|Romance          3.498959\n"
     ]
    }
   ],
   "source": [
    "def get_top5_recommendations(user_id, model, ratings, movies):\n",
    "    # 1. Films déjà notés par l’utilisateur (accede index 'userId' nan ratings avec .loc)\n",
    "    user_movies = ratings.loc[user_id]['movieId'].tolist()  # ratings.loc[user_id] retourne tous les films de l'user\n",
    "\n",
    "    # 2. Films non notés: Accède index 'movieId' nan movies (se tout fim ki nan katalòg la)\n",
    "    all_movies = movies.index.tolist()  # Itilize .index.tolist() pou pran tout index 'movieId' yo\n",
    "\n",
    "    # 3. Fim ki poko note\n",
    "    movies_to_predict = [m for m in all_movies if m not in user_movies]\n",
    "\n",
    "    # 4. Prédictions\n",
    "    predictions = [model.predict(user_id, m) for m in movies_to_predict]\n",
    "\n",
    "    # 5. Top 5 ordonné\n",
    "    top5 = sorted(predictions, key=lambda x: x.est, reverse=True)[:5]\n",
    "\n",
    "    # 6. Kreye yon DataFrame ak resultat yo\n",
    "    top5_movies = pd.DataFrame({\n",
    "        'movieId': [pred.iid for pred in top5],        # ID fim yo\n",
    "        'predicted_rating': [pred.est for pred in top5] # Evalyasyon prevwa yo\n",
    "    })\n",
    "\n",
    "    # 7. Melanje ak enfomasyon fim yo (title, genres)\n",
    "    # Reyini index 'movieId' nan movies anvan melanj\n",
    "    movies_reset = movies.reset_index()  # Sa ajoute 'movieId' kòm yon kolòn\n",
    "    top5_with_details = top5_movies.merge(movies_reset, on='movieId')\n",
    "\n",
    "    # 8. Retounen top 5 ak detay yo\n",
    "    return top5_with_details[['title', 'genres', 'predicted_rating']]\n",
    "\n",
    "# Exemple : recommandations pour l’utilisateur 200\n",
    "print(get_top5_recommendations(200, model, ratings, movies))"
   ]
  },
  {
   "cell_type": "markdown",
   "id": "aa5bc263-78f4-4d4f-b2bf-462413612d84",
   "metadata": {},
   "source": [
    "## 6.0 Conclusion"
   ]
  },
  {
   "cell_type": "markdown",
   "id": "00edde09-549f-485a-8fc1-85768af4f4c4",
   "metadata": {},
   "source": [
    "**Avec un RMSE d’environ 0.95, cela signifie que l’erreur moyenne du modèle est inférieure à une étoile sur l’échelle de notation (0.5 à 5.0). En d’autres termes, les prédictions du modèle sont globalement proches des évaluations réelles, même si des écarts ponctuels existent.**"
   ]
  }
 ],
 "metadata": {
  "kernelspec": {
   "display_name": "Python 3 (ipykernel)",
   "language": "python",
   "name": "python3"
  },
  "language_info": {
   "codemirror_mode": {
    "name": "ipython",
    "version": 3
   },
   "file_extension": ".py",
   "mimetype": "text/x-python",
   "name": "python",
   "nbconvert_exporter": "python",
   "pygments_lexer": "ipython3",
   "version": "3.12.3"
  }
 },
 "nbformat": 4,
 "nbformat_minor": 5
}
